{
 "metadata": {
  "name": "",
  "signature": "sha256:0faf65406298d3a1d15e8e84637e75e070f2dcf0df21e1ffd44fea950c65bb0a"
 },
 "nbformat": 3,
 "nbformat_minor": 0,
 "worksheets": [
  {
   "cells": [
    {
     "cell_type": "heading",
     "level": 1,
     "metadata": {},
     "source": [
      "CT Waist Circumference Calculator <br />\n",
      "Final Project"
     ]
    },
    {
     "cell_type": "heading",
     "level": 2,
     "metadata": {},
     "source": [
      "Teresa Stout"
     ]
    },
    {
     "cell_type": "heading",
     "level": 4,
     "metadata": {},
     "source": [
      "Class: BME 186 <br />\n",
      "Instructor: Hans Johnson  <br />\n",
      "Due Date: May 15, 2014"
     ]
    },
    {
     "cell_type": "markdown",
     "metadata": {},
     "source": [
      "\"Everything Should Be Made as Simple as Possible, But Not Simpler\" - Albert Einstein"
     ]
    },
    {
     "cell_type": "heading",
     "level": 4,
     "metadata": {},
     "source": [
      "Abstract"
     ]
    },
    {
     "cell_type": "markdown",
     "metadata": {},
     "source": [
      "    The goal of this project is to segment and measure the waist cirumference from a subject's Computed Tomography (CT) 3 dimensional (3D) scan. "
     ]
    },
    {
     "cell_type": "code",
     "collapsed": false,
     "input": [],
     "language": "python",
     "metadata": {},
     "outputs": []
    }
   ],
   "metadata": {}
  }
 ]
}